{
  "nbformat": 4,
  "nbformat_minor": 0,
  "metadata": {
    "colab": {
      "name": "mbta.ipynb",
      "provenance": [],
      "collapsed_sections": [],
      "authorship_tag": "ABX9TyMsLuHott2/PSPH4Kxij8Nf",
      "include_colab_link": true
    },
    "kernelspec": {
      "name": "python3",
      "display_name": "Python 3"
    }
  },
  "cells": [
    {
      "cell_type": "markdown",
      "metadata": {
        "id": "view-in-github",
        "colab_type": "text"
      },
      "source": [
        "<a href=\"https://colab.research.google.com/github/flymaster/CalendarMaker/blob/master/mbta.ipynb\" target=\"_parent\"><img src=\"https://colab.research.google.com/assets/colab-badge.svg\" alt=\"Open In Colab\"/></a>"
      ]
    },
    {
      "cell_type": "code",
      "metadata": {
        "colab": {
          "base_uri": "https://localhost:8080/"
        },
        "id": "vXyIvoZ2UuL4",
        "outputId": "221468ce-831c-4b7b-87bf-cc9a69c4d973"
      },
      "source": [
        "!pip install pymbta3"
      ],
      "execution_count": 1,
      "outputs": [
        {
          "output_type": "stream",
          "text": [
            "Collecting pymbta3\n",
            "  Downloading https://files.pythonhosted.org/packages/96/c8/ecd6e61ba1b2700636f3c00516e8107a4910f38a11adea6b0808a4fb0a10/pymbta3-0.0.1.dev0-py2.py3-none-any.whl\n",
            "Requirement already satisfied: requests in /usr/local/lib/python3.6/dist-packages (from pymbta3) (2.23.0)\n",
            "Requirement already satisfied: idna<3,>=2.5 in /usr/local/lib/python3.6/dist-packages (from requests->pymbta3) (2.10)\n",
            "Requirement already satisfied: chardet<4,>=3.0.2 in /usr/local/lib/python3.6/dist-packages (from requests->pymbta3) (3.0.4)\n",
            "Requirement already satisfied: urllib3!=1.25.0,!=1.25.1,<1.26,>=1.21.1 in /usr/local/lib/python3.6/dist-packages (from requests->pymbta3) (1.24.3)\n",
            "Requirement already satisfied: certifi>=2017.4.17 in /usr/local/lib/python3.6/dist-packages (from requests->pymbta3) (2020.6.20)\n",
            "Installing collected packages: pymbta3\n",
            "Successfully installed pymbta3-0.0.1.dev0\n"
          ],
          "name": "stdout"
        }
      ]
    },
    {
      "cell_type": "code",
      "metadata": {
        "colab": {
          "base_uri": "https://localhost:8080/"
        },
        "id": "phFmDG0YVFeV",
        "outputId": "16208173-2e4b-48e5-aa08-2c0651bb04dc"
      },
      "source": [
        "from pymbta3 import Alerts\n",
        "from pymbta3 import Vehicles\n",
        "\n",
        "v = Vehicles(key=\"973a647dd55c42fd87ca02699e17f607\")\n",
        "\n",
        "# Find all alerts affecting the Red Line at Alewife\n",
        "vs = v.get_vehicle(route=\"CR-Newburyport\")\n",
        "\n",
        "# Find the short header for the alert\n",
        "for d in vs[\"data\"]:\n",
        "  print(d)\n",
        "  print(d[\"relationships\"][\"stop\"])"
      ],
      "execution_count": 16,
      "outputs": [
        {
          "output_type": "stream",
          "text": [
            "{'attributes': {'bearing': 237, 'current_status': 'IN_TRANSIT_TO', 'current_stop_sequence': 8, 'direction_id': 1, 'label': '1649', 'latitude': 42.46474075317383, 'longitude': -70.94175720214844, 'occupancy_status': None, 'speed': 3.1, 'updated_at': '2020-11-19T20:58:31-05:00'}, 'id': '1649', 'links': {'self': '/vehicles/1649'}, 'relationships': {'route': {'data': {'id': 'CR-Newburyport', 'type': 'route'}}, 'stop': {'data': {'id': 'Lynn', 'type': 'stop'}}, 'trip': {'data': {'id': 'CR-Weekday-Fall-20-124-MRRockport', 'type': 'trip'}}}, 'type': 'vehicle'}\n",
            "{'data': {'id': 'Lynn', 'type': 'stop'}}\n",
            "{'attributes': {'bearing': 313, 'current_status': 'IN_TRANSIT_TO', 'current_stop_sequence': 2, 'direction_id': 0, 'label': '1641', 'latitude': 42.37131118774414, 'longitude': -71.0684585571289, 'occupancy_status': None, 'speed': 6.7, 'updated_at': '2020-11-19T20:58:19-05:00'}, 'id': '1641', 'links': {'self': '/vehicles/1641'}, 'relationships': {'route': {'data': {'id': 'CR-Newburyport', 'type': 'route'}}, 'stop': {'data': {'id': 'Chelsea', 'type': 'stop'}}, 'trip': {'data': {'id': 'CR-Weekday-Fall-20-127-MRRockport', 'type': 'trip'}}}, 'type': 'vehicle'}\n",
            "{'data': {'id': 'Chelsea', 'type': 'stop'}}\n",
            "{'attributes': {'bearing': 185, 'current_status': 'IN_TRANSIT_TO', 'current_stop_sequence': 7, 'direction_id': 1, 'label': '1638', 'latitude': 42.51258087158203, 'longitude': -70.89668273925781, 'occupancy_status': None, 'speed': 9.8, 'updated_at': '2020-11-19T20:58:14-05:00'}, 'id': '1638', 'links': {'self': '/vehicles/1638'}, 'relationships': {'route': {'data': {'id': 'CR-Newburyport', 'type': 'route'}}, 'stop': {'data': {'id': 'Swampscott', 'type': 'stop'}}, 'trip': {'data': {'id': 'CR-Weekday-Fall-20-126-MRRockport', 'type': 'trip'}}}, 'type': 'vehicle'}\n",
            "{'data': {'id': 'Swampscott', 'type': 'stop'}}\n",
            "{'attributes': {'bearing': 237, 'current_status': 'STOPPED_AT', 'current_stop_sequence': 9, 'direction_id': 1, 'label': '1628', 'latitude': 42.46247100830078, 'longitude': -70.94618225097656, 'occupancy_status': None, 'speed': None, 'updated_at': '2020-11-19T20:58:27-05:00'}, 'id': '1628', 'links': {'self': '/vehicles/1628'}, 'relationships': {'route': {'data': {'id': 'CR-Newburyport', 'type': 'route'}}, 'stop': {'data': {'id': 'Lynn', 'type': 'stop'}}, 'trip': {'data': {'id': 'CR-Weekday-Fall-20-166-MRRockport', 'type': 'trip'}}}, 'type': 'vehicle'}\n",
            "{'data': {'id': 'Lynn', 'type': 'stop'}}\n"
          ],
          "name": "stdout"
        }
      ]
    }
  ]
}